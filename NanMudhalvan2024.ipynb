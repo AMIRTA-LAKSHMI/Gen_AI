# Main function
def main():
    # URL of the website to evaluate
    website_url = input("Enter the URL of the website to evaluate: ")

    # Get website content
    website_content = get_website_content(website_url)

    # Perform sentiment analysis
    sentiment_score = perform_sentiment_analysis(website_content)

    # Print sentiment score
    print("Sentiment Score:", sentiment_score)

# Call main function
if __name__ == "__main__":
    main()

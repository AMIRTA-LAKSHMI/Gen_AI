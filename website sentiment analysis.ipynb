{
 "cells": [
  {
   "cell_type": "code",
   "execution_count": 1,
   "id": "20206565",
   "metadata": {},
   "outputs": [
    {
     "ename": "ModuleNotFoundError",
     "evalue": "No module named 'beautifulsoup4'",
     "output_type": "error",
     "traceback": [
      "\u001b[1;31m---------------------------------------------------------------------------\u001b[0m",
      "\u001b[1;31mModuleNotFoundError\u001b[0m                       Traceback (most recent call last)",
      "Cell \u001b[1;32mIn[1], line 2\u001b[0m\n\u001b[0;32m      1\u001b[0m \u001b[38;5;66;03m# Install required libraries\u001b[39;00m\n\u001b[1;32m----> 2\u001b[0m \u001b[38;5;28;01mimport\u001b[39;00m \u001b[38;5;21;01mbeautifulsoup4\u001b[39;00m\n\u001b[0;32m      3\u001b[0m \u001b[38;5;28;01mimport\u001b[39;00m \u001b[38;5;21;01mnltk\u001b[39;00m\n\u001b[0;32m      5\u001b[0m \u001b[38;5;66;03m# Import libraries\u001b[39;00m\n",
      "\u001b[1;31mModuleNotFoundError\u001b[0m: No module named 'beautifulsoup4'"
     ]
    }
   ],
   "source": [
    "# Install required libraries\n",
    "import beautifulsoup4\n",
    "import nltk\n",
    "\n",
    "# Import libraries\n",
    "import requests  # Add this line to import requests\n",
    "from bs4 import BeautifulSoup\n",
    "import nltk\n",
    "from nltk.sentiment.vader import SentimentIntensityAnalyzer\n",
    "\n",
    "# Download nltk resources\n",
    "nltk.download('vader_lexicon')\n",
    "\n",
    "# Function to get website content\n",
    "def get_website_content(url):\n",
    "    response = requests.get(url)\n",
    "    soup = BeautifulSoup(response.text, 'html.parser')\n",
    "    return soup.get_text()\n",
    "\n",
    "# Function to perform sentiment analysis\n",
    "def perform_sentiment_analysis(text):\n",
    "    sia = SentimentIntensityAnalyzer()\n",
    "    sentiment_score = sia.polarity_scores(text)\n",
    "    return sentiment_score\n",
    "\n",
    "# Main function\n",
    "def main():\n",
    "    # URL of the website to evaluate\n",
    "    website_url = input(\"Enter the URL of the website to evaluate: \")\n",
    "\n",
    "    # Get website content\n",
    "    website_content = get_website_content(website_url)\n",
    "\n",
    "    # Perform sentiment analysis\n",
    "    sentiment_score = perform_sentiment_analysis(website_content)\n",
    "\n",
    "    # Print sentiment score\n",
    "    print(\"Sentiment Score:\", sentiment_score)\n",
    "\n",
    "# Call main function\n",
    "if __name__ == \"__main__\":\n",
    "    main()\n"
   ]
  },
  {
   "cell_type": "code",
   "execution_count": 2,
   "id": "e8f26d42",
   "metadata": {},
   "outputs": [
    {
     "name": "stdout",
     "output_type": "stream",
     "text": [
      "Requirement already satisfied: beautifulsoup4 in c:\\users\\amirt\\appdata\\local\\anaconda3\\lib\\site-packages (4.12.2)\n",
      "Requirement already satisfied: soupsieve>1.2 in c:\\users\\amirt\\appdata\\local\\anaconda3\\lib\\site-packages (from beautifulsoup4) (2.4)\n",
      "Requirement already satisfied: nltk in c:\\users\\amirt\\appdata\\local\\anaconda3\\lib\\site-packages (3.8.1)\n",
      "Requirement already satisfied: click in c:\\users\\amirt\\appdata\\local\\anaconda3\\lib\\site-packages (from nltk) (8.0.4)\n",
      "Requirement already satisfied: joblib in c:\\users\\amirt\\appdata\\local\\anaconda3\\lib\\site-packages (from nltk) (1.2.0)\n",
      "Requirement already satisfied: regex>=2021.8.3 in c:\\users\\amirt\\appdata\\local\\anaconda3\\lib\\site-packages (from nltk) (2022.7.9)\n",
      "Requirement already satisfied: tqdm in c:\\users\\amirt\\appdata\\local\\anaconda3\\lib\\site-packages (from nltk) (4.65.0)\n",
      "Requirement already satisfied: colorama in c:\\users\\amirt\\appdata\\local\\anaconda3\\lib\\site-packages (from click->nltk) (0.4.6)\n"
     ]
    },
    {
     "name": "stderr",
     "output_type": "stream",
     "text": [
      "[nltk_data] Downloading package vader_lexicon to\n",
      "[nltk_data]     C:\\Users\\amirt\\AppData\\Roaming\\nltk_data...\n",
      "[nltk_data]   Package vader_lexicon is already up-to-date!\n"
     ]
    },
    {
     "name": "stdout",
     "output_type": "stream",
     "text": [
      "Enter the URL of the website to evaluate:   https://www.bikewale.com/\n",
      "Sentiment Score: {'neg': 0.007, 'neu': 0.946, 'pos': 0.047, 'compound': 0.9928}\n"
     ]
    }
   ],
   "source": [
    "# Install required libraries\n",
    "!pip install beautifulsoup4\n",
    "!pip install nltk\n",
    "\n",
    "# Import libraries\n",
    "import requests  # Add this line to import requests\n",
    "from bs4 import BeautifulSoup\n",
    "import nltk\n",
    "from nltk.sentiment.vader import SentimentIntensityAnalyzer\n",
    "\n",
    "# Download nltk resources\n",
    "nltk.download('vader_lexicon')\n",
    "\n",
    "# Function to get website content\n",
    "def get_website_content(url):\n",
    "    response = requests.get(url)\n",
    "    soup = BeautifulSoup(response.text, 'html.parser')\n",
    "    return soup.get_text()\n",
    "\n",
    "# Function to perform sentiment analysis\n",
    "def perform_sentiment_analysis(text):\n",
    "    sia = SentimentIntensityAnalyzer()\n",
    "    sentiment_score = sia.polarity_scores(text)\n",
    "    return sentiment_score\n",
    "\n",
    "# Main function\n",
    "def main():\n",
    "    # URL of the website to evaluate\n",
    "    website_url = input(\"Enter the URL of the website to evaluate: \")\n",
    "\n",
    "    # Get website content\n",
    "    website_content = get_website_content(website_url)\n",
    "\n",
    "    # Perform sentiment analysis\n",
    "    sentiment_score = perform_sentiment_analysis(website_content)\n",
    "\n",
    "    # Print sentiment score\n",
    "    print(\"Sentiment Score:\", sentiment_score)\n",
    "\n",
    "# Call main function\n",
    "if __name__ == \"__main__\":\n",
    "    main()\n"
   ]
  },
  {
   "cell_type": "code",
   "execution_count": null,
   "id": "6254b3fe",
   "metadata": {},
   "outputs": [],
   "source": []
  }
 ],
 "metadata": {
  "kernelspec": {
   "display_name": "Python 3 (ipykernel)",
   "language": "python",
   "name": "python3"
  },
  "language_info": {
   "codemirror_mode": {
    "name": "ipython",
    "version": 3
   },
   "file_extension": ".py",
   "mimetype": "text/x-python",
   "name": "python",
   "nbconvert_exporter": "python",
   "pygments_lexer": "ipython3",
   "version": "3.11.5"
  }
 },
 "nbformat": 4,
 "nbformat_minor": 5
}
